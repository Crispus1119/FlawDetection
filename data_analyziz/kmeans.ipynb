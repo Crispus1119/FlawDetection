{
 "cells": [
  {
   "cell_type": "code",
   "execution_count": 1,
   "metadata": {},
   "outputs": [
    {
     "name": "stdout",
     "output_type": "stream",
     "text": [
      "hey\n"
     ]
    }
   ],
   "source": [
    "import xml.etree.cElementTree as ET\n",
    "import matplotlib.pyplot as plt\n",
    "import pandas as pd\n",
    "import numpy as np\n",
    "import os\n",
    "import random\n",
    "print(\"hey\")"
   ]
  },
  {
   "cell_type": "code",
   "execution_count": 2,
   "metadata": {},
   "outputs": [
    {
     "name": "stdout",
     "output_type": "stream",
     "text": [
      "0.29296875\n"
     ]
    }
   ],
   "source": [
    "def handle_origin_image():\n",
    "#   it shows we try to rescale whidth and height to 0.3 times of each\n",
    "    x = 2456\n",
    "    y = 2048\n",
    "    im_max = max(x, y)\n",
    "    im_min = min(x, y)\n",
    "    scale = 600 / im_min\n",
    "    if scale * im_max >1000:\n",
    "        scale = 1000 / im_max\n",
    "    print(scale)\n",
    "handle_origin_image()"
   ]
  },
  {
   "cell_type": "code",
   "execution_count": 3,
   "metadata": {},
   "outputs": [],
   "source": [
    "def load_pascal_annotation( index):\n",
    "        filename = os.path.join(\"/Users/crispus/Desktop/capstone/data/VOC2007/Annotations\", index + \".xml\")\n",
    "        tree = ET.parse(filename)\n",
    "        flaw = tree.find(\"object\")\n",
    "        box = np.zeros([4], dtype=np.uint16)\n",
    "        # the array to present class\n",
    "        gt_class = np.zeros([9], dtype=np.int32)\n",
    "        bbox = flaw.find('bndbox')\n",
    "        x1 = float(bbox.find('xmin').text)\n",
    "        y1 = float(bbox.find('ymin').text)\n",
    "        x2 = float(bbox.find('xmax').text)\n",
    "        y2 = float(bbox.find('ymax').text)\n",
    "        # get the number represent flaw\n",
    "        area = (x2 - x1) * (y2 - y1)\n",
    "        box[:] = [x1, y1, x2, y2]\n",
    "        return {'box': box, 'index': index, 'area': area}\n",
    "def read_file():\n",
    "    filename=\"/Users/crispus/Desktop/capstone/data/VOC2007/ImageSets/Main/trainval.txt\"\n",
    "    datas=open(filename)\n",
    "    lines=datas.readlines()\n",
    "    data=[]\n",
    "    for line in lines:\n",
    "        data.append(load_pascal_annotation(line.strip()))\n",
    "    return data"
   ]
  },
  {
   "cell_type": "code",
   "execution_count": 4,
   "metadata": {},
   "outputs": [],
   "source": [
    "def draw_ratios():\n",
    "    record=[]\n",
    "    for info in data:\n",
    "        box=info.get('box')\n",
    "        if box[2]-box[0]>=box[3]-box[1]:\n",
    "           record.append(round((box[2]-box[0])/(box[3]-box[1])))\n",
    "        else:\n",
    "            record.append(round((box[3]-box[1])/(box[2]-box[0])))\n",
    "#     result = pd.value_counts(record)\n",
    "#     print(result)\n",
    "    plt.hist(record, bins=40, normed=0, facecolor=\"blue\", edgecolor=\"black\", alpha=0.7)\n",
    "    plt.xlabel(\"ratios\")\n",
    "    plt.ylabel(\"times\")\n",
    "    plt.title(\"ratios of all bounding box\")\n",
    "    plt.savefig(\"/Users/crispus/Desktop/capstone/document/ratios.png\")\n"
   ]
  },
  {
   "cell_type": "code",
   "execution_count": null,
   "metadata": {},
   "outputs": [],
   "source": []
  },
  {
   "cell_type": "code",
   "execution_count": 6,
   "metadata": {},
   "outputs": [
    {
     "name": "stdout",
     "output_type": "stream",
     "text": [
      "[9.876181834423239, 41.286353841843386, 113.90691528635534, 83.20153547236433, 30.084806306459626, 54.06641340036903, 99.0224370395546, 261.19212496017605, 68.71331473706796, 19.60142437705088]\n"
     ]
    },
    {
     "data": {
      "image/png": "[encoded data removed]",
      "text/plain": [
       "<Figure size 432x288 with 1 Axes>"
      ]
     },
     "metadata": {
      "needs_background": "light"
     },
     "output_type": "display_data"
    }
   ],
   "source": [
    "def iou(box,gt_box):\n",
    "    if box[0]>gt_box[2] or box[1]>gt_box[3] or box[2]<gt_box[0] or box[3]<gt_box[1]:\n",
    "        return 0.0\n",
    "    xmin=max(box[0],gt_box[0])\n",
    "    ymin=max(box[1],gt_box[1])\n",
    "    xmax=max(box[2],gt_box[2])\n",
    "    ymax=max(box[3],gt_box[3])\n",
    "    area=(xmax-xmin)*(ymax-ymin)\n",
    "    square1=(box[2]-box[0])*(box[3]-box[1])\n",
    "    square2=(gt_box[2]-gt_box[0])*(gt_box[3]-gt_box[1])\n",
    "    iou=area/(square1+square2-area+ 1e-10)\n",
    "    \n",
    "def distance(a,b):\n",
    "    return abs(a-b)\n",
    "\n",
    "def generate_initial(data,k):\n",
    "    first=data[0]\n",
    "    center=[first]\n",
    "    dis=[distance(i,first) for i in data[1:]]\n",
    "    le=min(dis)\n",
    "    total=sum([i**2 for i in dis])\n",
    "    prob=[(i**2)/total for i in dis]\n",
    "    for _ in range(k-1): \n",
    "        r=random.random()\n",
    "        su=0\n",
    "        for i in range(len(prob)):\n",
    "            su+=prob[i]\n",
    "            if r<=su:\n",
    "                break\n",
    "        center.append(data[i+1])\n",
    "    return center\n",
    "\n",
    "def kmean(data,k=10):\n",
    "    center=generate_initial(data,k)\n",
    "    record=np.zeros((len(data),2))\n",
    "    data=np.array(data)\n",
    "    change=True\n",
    "    while change:\n",
    "        change=False\n",
    "        for i in range(len(data)):\n",
    "            mindis=float('inf')\n",
    "            index=-1\n",
    "            for j in range(len(center)):\n",
    "                dis=distance(center[j],data[i])\n",
    "                if dis<mindis:\n",
    "                    mindis=dis\n",
    "                    index=j\n",
    "            if record[i,0]!=index:\n",
    "                change=True\n",
    "                record[i,:]=index,mindis\n",
    "        for j in range(k):\n",
    "            mid=record[:,0]\n",
    "            points=data[np.nonzero(mid==j)[0]]\n",
    "            center[j]=np.mean(points)\n",
    "    return center\n",
    "\n",
    "def draw_scales():\n",
    "    datas=read_file()\n",
    "    areas=[np.sqrt(round(0.09*i.get('area'))) for i in datas]\n",
    "    print(kmean(areas,10))\n",
    "    plt.hist(areas, bins=4000, normed=0, facecolor=\"blue\", edgecolor=\"black\", alpha=0.7)\n",
    "    plt.xlabel(\"scales\")\n",
    "    plt.ylabel(\"times\")\n",
    "    plt.xlim((0,150))\n",
    "    plt.title(\"scale of all bounding box\")\n",
    "\n",
    "draw_scales()\n",
    "                \n",
    "    \n",
    "        "
   ]
  },
  {
   "cell_type": "code",
   "execution_count": null,
   "metadata": {},
   "outputs": [],
   "source": []
  }
 ],
 "metadata": {
  "kernelspec": {
   "display_name": "Python 3",
   "language": "python",
   "name": "python3"
  },
  "language_info": {
   "codemirror_mode": {
    "name": "ipython",
    "version": 3
   },
   "file_extension": ".py",
   "mimetype": "text/x-python",
   "name": "python",
   "nbconvert_exporter": "python",
   "pygments_lexer": "ipython3",
   "version": "3.6.8"
  }
 },
 "nbformat": 4,
 "nbformat_minor": 2
}
