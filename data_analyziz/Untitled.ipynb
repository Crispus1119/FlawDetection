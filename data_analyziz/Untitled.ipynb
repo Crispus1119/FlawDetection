{
 "cells": [
  {
   "cell_type": "code",
   "execution_count": 17,
   "metadata": {},
   "outputs": [],
   "source": [
    "import cv2\n",
    "import os\n",
    "import matplotlib.pyplot as plt\n",
    "import xml.etree.ElementTree as ET\n",
    "image_path='/Users/crispus/Desktop/capstone/data/VOC2007/JPEGImages'\n",
    "xml_path='/Users/crispus/Desktop/capstone/data/VOC2007/Annotations'\n",
    "\n"
   ]
  },
  {
   "cell_type": "code",
   "execution_count": 18,
   "metadata": {},
   "outputs": [],
   "source": [
    "def draw():\n",
    "    image_index='FB52'\n",
    "    global image_path,xml_path\n",
    "    im_path=os.path.join(image_path,image_index+'.jpg')\n",
    "    im=cv2.imread(im_path,1)\n",
    "    xml_file_path=os.path.join(xml_path,image_index+'.xml')\n",
    "    tree=ET.parse(xml_file_path)\n",
    "    flaw = tree.find(\"object\")\n",
    "    bbox = flaw.find('bndbox')\n",
    "    x1 = float(bbox.find('xmin').text)\n",
    "    y1 = float(bbox.find('ymin').text)\n",
    "    x2 = float(bbox.find('xmax').text)\n",
    "    y2 = float(bbox.find('ymax').text)\n",
    "    print(\"i am here\")\n",
    "    im=cv2.cvtColor(im,cv2.COLOR_BGR2RGB)\n",
    "    image=cv2.rectangle(im,(int(x1),int(y1)),(int(x2),int(y2)),(255,0,0), 10)\n",
    "    print(type(image))\n",
    "    plt.figure(\"Image\") # 图像窗口名称\n",
    "    plt.imshow(image)\n"
   ]
  },
  {
   "cell_type": "code",
   "execution_count": null,
   "metadata": {},
   "outputs": [],
   "source": []
  }
 ],
 "metadata": {
  "kernelspec": {
   "display_name": "Python 3",
   "language": "python",
   "name": "python3"
  },
  "language_info": {
   "codemirror_mode": {
    "name": "ipython",
    "version": 3
   },
   "file_extension": ".py",
   "mimetype": "text/x-python",
   "name": "python",
   "nbconvert_exporter": "python",
   "pygments_lexer": "ipython3",
   "version": "3.6.8"
  }
 },
 "nbformat": 4,
 "nbformat_minor": 2
}
